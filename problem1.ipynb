{
  "cells": [
    {
      "cell_type": "markdown",
      "metadata": {
        "id": "view-in-github",
        "colab_type": "text"
      },
      "source": [
        "<a href=\"https://colab.research.google.com/github/AminRazzaghi/CE880_Lab_Task/blob/main/problem1.ipynb\" target=\"_parent\"><img src=\"https://colab.research.google.com/assets/colab-badge.svg\" alt=\"Open In Colab\"/></a>"
      ]
    },
    {
      "cell_type": "markdown",
      "metadata": {
        "id": "UOmjvNEFlAcv"
      },
      "source": [
        "Before you turn this problem in, make sure everything runs as expected. First, **restart the kernel** (in the menubar, select Kernel$\\rightarrow$Restart) and then **run all cells** (in the menubar, select Cell$\\rightarrow$Run All).\n",
        "\n",
        "Make sure you fill in any place that says `YOUR CODE HERE` or \"YOUR ANSWER HERE\", as well as your name and collaborators below:"
      ]
    },
    {
      "cell_type": "code",
      "execution_count": 1,
      "metadata": {
        "id": "zW_UP9DylAcy"
      },
      "outputs": [],
      "source": [
        "NAME = \"MohammadAmin Razzaghi\"\n",
        "COLLABORATORS = \"Dr. Haidar Reza\""
      ]
    },
    {
      "cell_type": "markdown",
      "metadata": {
        "id": "dxES4mWMlAcz"
      },
      "source": [
        "---"
      ]
    },
    {
      "cell_type": "markdown",
      "metadata": {
        "id": "T5tI1flylAc0"
      },
      "source": [
        "---\n",
        "# Welcome to CE880\n",
        "### This is your week-1 : Problem 1 notebook\n",
        "\n",
        "For this problem set, we'll be using the Jupyter notebook and please upload this notebook to [Google Colab](https://colab.research.google.com/).\n"
      ]
    },
    {
      "cell_type": "markdown",
      "metadata": {
        "id": "zpLadfuIlAc0"
      },
      "source": [
        "---\n",
        "## Question 1:\n",
        "\n",
        "Write a function for Pythagorean theorem, or Pythagoras' theorem. Pythagorean is a fundamental relation in Euclidean geometry among the three sides of a right triangle. It states that the area of the square whose side is the hypotenuse (the side opposite the right angle) is equal to the sum of the areas of the squares on the other two sides. This theorem can be written as an equation relating the lengths of the legs a, b and the hypotenuse c, often called the Pythagorean equation:\n",
        "\n",
        "$a^2 + b^2 = c^2$\n",
        "\n",
        "Please write a function (code)to calculate the length of an unknown side of a right triangle, given two sides are known."
      ]
    },
    {
      "cell_type": "code",
      "execution_count": 10,
      "metadata": {
        "deletable": false,
        "nbgrader": {
          "cell_type": "code",
          "checksum": "55b3532bce06790bcc6e2fcd4cf7e7c5",
          "grade": false,
          "grade_id": "myPythagorean_ans",
          "locked": false,
          "schema_version": 3,
          "solution": true
        },
        "id": "g9vBNoB-lAc0"
      },
      "outputs": [],
      "source": [
        "import math\n",
        "def myPythagorean(a,b):\n",
        "    \"\"\"write a function (code)to calculate the length of an unknown side\n",
        "    of a right triangle, given two sides are known.\n",
        "    \"\"\"\n",
        "    # YOUR CODE HERE\n",
        "    a_number = float(a)\n",
        "    b_number = float(b)\n",
        "\n",
        "    if (a_number == 0 or b_number == 0):\n",
        "      return 0\n",
        "    else:\n",
        "      c = math.sqrt(math.pow(a_number, 2) + math.pow(b_number, 2))\n",
        "      return c\n",
        "\n",
        "    raise NotImplementedError()"
      ]
    },
    {
      "cell_type": "code",
      "execution_count": 11,
      "metadata": {
        "colab": {
          "base_uri": "https://localhost:8080/"
        },
        "id": "UILJ5G-zlAc1",
        "outputId": "d03fd6ba-1476-44c5-d0be-216c7276dacc"
      },
      "outputs": [
        {
          "output_type": "execute_result",
          "data": {
            "text/plain": [
              "0"
            ]
          },
          "metadata": {},
          "execution_count": 11
        }
      ],
      "source": [
        "myPythagorean(0,2)"
      ]
    },
    {
      "cell_type": "code",
      "execution_count": 12,
      "metadata": {
        "deletable": false,
        "editable": false,
        "nbgrader": {
          "cell_type": "code",
          "checksum": "e622eeadc2e7c9460e47779bcb016e60",
          "grade": true,
          "grade_id": "myPythagorean_test",
          "locked": false,
          "points": 1,
          "schema_version": 3,
          "solution": false
        },
        "id": "GZno0mt9lAc1"
      },
      "outputs": [],
      "source": [
        "\"\"\"Check that squares returns the correct output for several inputs\"\"\"\n",
        "assert myPythagorean(3,2) == 3.605551275463989\n",
        "assert myPythagorean(7,3) == 7.615773105863909\n",
        "assert myPythagorean(0,2) == 0"
      ]
    },
    {
      "cell_type": "markdown",
      "metadata": {
        "id": "Pt5zpitLlAc2"
      },
      "source": [
        "---\n",
        "\n",
        "## Question 2:\n",
        "\n",
        "A `trapezoid` is a quadrilateral with two sides parallel. The `trapezoid` is equivalent to the British definition of the `trapezium`. An isosceles `trapezoid` is a `trapezoid` in which the base angles are equal so\n",
        "\n",
        "<img src=\"https://www.w3resource.com/w3r_images/python-math-image-exercise-3.svg\"\n",
        "     alt=\"Markdown Monster icon\"\n",
        "     style=\"float: left; margin-right: 10px;\" />\n",
        "     \n",
        "Please write a function (code)to calculate the area of trapezoid."
      ]
    },
    {
      "cell_type": "code",
      "execution_count": 14,
      "metadata": {
        "deletable": false,
        "nbgrader": {
          "cell_type": "code",
          "checksum": "0b5eb16a2aa5919b3bd20fa36c29d3c3",
          "grade": false,
          "grade_id": "areaofTrap_ans",
          "locked": false,
          "schema_version": 3,
          "solution": true
        },
        "id": "RE_N8CrvlAc2"
      },
      "outputs": [],
      "source": [
        "def areaofTrap(base1, base2, height):\n",
        "    \"\"\"Compute the sum of the squares of numbers from 1 to n.\"\"\"\n",
        "    # YOUR CODE HERE\n",
        "    area = (base1 + base2) * height / 2\n",
        "    return area\n",
        "\n",
        "    raise NotImplementedError()"
      ]
    },
    {
      "cell_type": "code",
      "execution_count": 15,
      "metadata": {
        "colab": {
          "base_uri": "https://localhost:8080/"
        },
        "id": "ua_pecIBlAc2",
        "outputId": "02b7870d-aacf-48a5-9b30-58397cfc443a"
      },
      "outputs": [
        {
          "output_type": "execute_result",
          "data": {
            "text/plain": [
              "0.0"
            ]
          },
          "metadata": {},
          "execution_count": 15
        }
      ],
      "source": [
        "areaofTrap(3, 1, 0)"
      ]
    },
    {
      "cell_type": "code",
      "execution_count": 16,
      "metadata": {
        "deletable": false,
        "editable": false,
        "nbgrader": {
          "cell_type": "code",
          "checksum": "3b0bce7375a4cbc8a7a05c7968f99113",
          "grade": true,
          "grade_id": "areaofTrap_test",
          "locked": false,
          "points": 1,
          "schema_version": 3,
          "solution": false
        },
        "id": "5DiFa7RslAc2"
      },
      "outputs": [],
      "source": [
        "\"\"\"Check that areaofTrap returns the correct answer for various inputs.\"\"\"\n",
        "assert areaofTrap(10, 10, 20) == 200.0\n",
        "assert areaofTrap(5, 10, 20) == 150.0\n",
        "assert areaofTrap(5, 3, 5) == 20.0"
      ]
    },
    {
      "cell_type": "markdown",
      "metadata": {
        "id": "_fpkJcwhlAc3"
      },
      "source": [
        "---\n",
        "## Question 3:\n",
        "\n",
        " Write a Python program to reverse a string. Example: Sample String: `1234xyz` Expected Output: `zyx4321`"
      ]
    },
    {
      "cell_type": "code",
      "execution_count": 19,
      "metadata": {
        "deletable": false,
        "nbgrader": {
          "cell_type": "code",
          "checksum": "98cb7a38e7c264c61d0ff0332d879772",
          "grade": false,
          "grade_id": "reversestring_ans",
          "locked": false,
          "schema_version": 3,
          "solution": true,
          "task": false
        },
        "id": "gAzxzgLdlAc3"
      },
      "outputs": [],
      "source": [
        "def reverse_string(str1):\n",
        "    \"\"\"Write your code here to reverse the string\"\"\"\n",
        "\n",
        "    # YOUR CODE HERE\n",
        "    buffer = list(str1)\n",
        "    counter = len(buffer)\n",
        "    for i in str1:\n",
        "      buffer[counter-1] = i\n",
        "      counter -= 1\n",
        "\n",
        "    output = ''.join(buffer)\n",
        "    return output\n",
        "\n",
        "\n",
        "\n",
        "    raise NotImplementedError()"
      ]
    },
    {
      "cell_type": "code",
      "execution_count": 20,
      "metadata": {
        "colab": {
          "base_uri": "https://localhost:8080/",
          "height": 35
        },
        "id": "ku2bigIQlAc3",
        "outputId": "e028e679-243f-4ea2-81ea-fa5bbc3bbdf4"
      },
      "outputs": [
        {
          "output_type": "execute_result",
          "data": {
            "text/plain": [
              "'TPGtahC'"
            ],
            "application/vnd.google.colaboratory.intrinsic+json": {
              "type": "string"
            }
          },
          "metadata": {},
          "execution_count": 20
        }
      ],
      "source": [
        "reverse_string('ChatGPT')"
      ]
    },
    {
      "cell_type": "code",
      "execution_count": 21,
      "metadata": {
        "deletable": false,
        "editable": false,
        "nbgrader": {
          "cell_type": "code",
          "checksum": "13cc3e56b0754d7b6c57e0c91a267c8c",
          "grade": true,
          "grade_id": "reversestring_test",
          "locked": true,
          "points": 1,
          "schema_version": 3,
          "solution": false,
          "task": false
        },
        "id": "Sys7mN9elAc3"
      },
      "outputs": [],
      "source": [
        "\"\"\"Check that areaofTrap returns the correct answer for various inputs.\"\"\"\n",
        "assert reverse_string('Humanitarian') == 'nairatinamuH'\n",
        "assert reverse_string('ChatGPT') == 'TPGtahC'\n",
        "assert reverse_string('Data Science') == 'ecneicS ataD'\n",
        "assert reverse_string('CE880') == '088EC'"
      ]
    },
    {
      "cell_type": "markdown",
      "metadata": {
        "id": "1k4iYodVlAc3"
      },
      "source": [
        "## Question 4:\n",
        "Write a Python program to print the even numbers from a given list and in ascending order.\n",
        "\n",
        "Sample List : `[1, 2, 3, 4, 5, 6, 7, 8, 9]` Expected Result : `[2, 4, 6, 8]`"
      ]
    },
    {
      "cell_type": "code",
      "execution_count": 50,
      "metadata": {
        "deletable": false,
        "nbgrader": {
          "cell_type": "code",
          "checksum": "634b56327ec7f866bdcca85aeaf049c4",
          "grade": false,
          "grade_id": "even_num_ans",
          "locked": false,
          "schema_version": 3,
          "solution": true,
          "task": false
        },
        "id": "ebX0AcmelAc3"
      },
      "outputs": [],
      "source": [
        "import numpy as np\n",
        "def even_num(lst_1):\n",
        "    \"\"\"Write a Python program to print the even numbers from a given list and in ascending order.\"\"\"\n",
        "    # YOUR CODE HERE\n",
        "    selected_nums = []\n",
        "    for i in lst_1:\n",
        "      if i % 2 == 0:\n",
        "        selected_nums.append(i)\n",
        "\n",
        "    # removing any repetitive elements\n",
        "    output = list(set(selected_nums))\n",
        "    output.sort()\n",
        "\n",
        "    return output\n",
        "\n",
        "    raise NotImplementedError()"
      ]
    },
    {
      "cell_type": "code",
      "execution_count": 51,
      "metadata": {
        "colab": {
          "base_uri": "https://localhost:8080/"
        },
        "id": "Na9LAn-ylAc3",
        "outputId": "b684963c-26b7-441d-e9ea-f2fbd708422a"
      },
      "outputs": [
        {
          "output_type": "execute_result",
          "data": {
            "text/plain": [
              "[2, 8, 14]"
            ]
          },
          "metadata": {},
          "execution_count": 51
        }
      ],
      "source": [
        "even_num([2, 3, 14, 17, 8, 19, 11, 14])"
      ]
    },
    {
      "cell_type": "code",
      "execution_count": 52,
      "metadata": {
        "deletable": false,
        "editable": false,
        "nbgrader": {
          "cell_type": "code",
          "checksum": "00db856fb24779b0f5c015d8e5bb7ce2",
          "grade": true,
          "grade_id": "odd_num_test",
          "locked": true,
          "points": 1,
          "schema_version": 3,
          "solution": false,
          "task": false
        },
        "id": "hP8eTNMPlAc4"
      },
      "outputs": [],
      "source": [
        "assert even_num([1, 2, 3, 4, 6, 7, 8, 9]) == [2, 4, 6, 8]\n",
        "assert even_num([2, 3, 4, 7, 8, 9, 11, 14]) == [2, 4, 8, 14]\n",
        "assert even_num([2, 3, 14, 17, 8, 19, 11, 14]) == [2, 8, 14]"
      ]
    },
    {
      "cell_type": "markdown",
      "metadata": {
        "id": "A8kWaGk0lAc4"
      },
      "source": [
        "## Question 5:\n",
        "Write a Python function to create and print a list where the values are square of numbers between `1` and `n`, where `n` is user defined number: Example `sqr_values(4) == [1, 4, 9, 16]`"
      ]
    },
    {
      "cell_type": "code",
      "execution_count": 56,
      "metadata": {
        "deletable": false,
        "nbgrader": {
          "cell_type": "code",
          "checksum": "5df07d41d1fe24c9357fdc4885a57efd",
          "grade": false,
          "grade_id": "sqr_values_ans",
          "locked": false,
          "schema_version": 3,
          "solution": true,
          "task": false
        },
        "id": "hu-bxgzclAc4"
      },
      "outputs": [],
      "source": [
        "def sqr_values(n):\n",
        "    \"\"\"Write a Python program to print the square of numbers between 1 and `n`\"\"\"\n",
        "\n",
        "    buffer = []\n",
        "    for i in range(1,n+1):\n",
        "      buffer.append(i**2)\n",
        "\n",
        "    return buffer\n",
        "\n",
        "    # YOUR CODE HERE\n",
        "    raise NotImplementedError()"
      ]
    },
    {
      "cell_type": "code",
      "execution_count": 57,
      "metadata": {
        "id": "fDDf_yaAlAc4",
        "outputId": "36ace7a4-5d46-445c-8730-4ba404744798",
        "colab": {
          "base_uri": "https://localhost:8080/"
        }
      },
      "outputs": [
        {
          "output_type": "execute_result",
          "data": {
            "text/plain": [
              "[1, 4, 9, 16]"
            ]
          },
          "metadata": {},
          "execution_count": 57
        }
      ],
      "source": [
        "sqr_values(4)"
      ]
    },
    {
      "cell_type": "code",
      "execution_count": 58,
      "metadata": {
        "deletable": false,
        "editable": false,
        "nbgrader": {
          "cell_type": "code",
          "checksum": "caa0e5f4cae453a321dda9721a0c6776",
          "grade": true,
          "grade_id": "sqr_values_test",
          "locked": true,
          "points": 1,
          "schema_version": 3,
          "solution": false,
          "task": false
        },
        "id": "6CflfjsflAc4"
      },
      "outputs": [],
      "source": [
        "\"\"\"Check that sqr_values returns the correct answer for various inputs.\"\"\"\n",
        "assert sqr_values(4) == [1, 4, 9, 16]\n",
        "assert sqr_values(8) == [1, 4, 9, 16, 25, 36, 49, 64]\n",
        "assert sqr_values(9) == [1, 4, 9, 16, 25, 36, 49, 64, 81]\n",
        "assert sqr_values(11) == [1, 4, 9, 16, 25, 36, 49, 64, 81, 100, 121]"
      ]
    },
    {
      "cell_type": "markdown",
      "metadata": {
        "id": "JKcaxQ0olAc4"
      },
      "source": [
        "## Question 6:\n",
        "\n",
        "Write a Python program to find all the duplicate characters which are similar to each other and join them.\n"
      ]
    },
    {
      "cell_type": "code",
      "execution_count": null,
      "metadata": {
        "deletable": false,
        "nbgrader": {
          "cell_type": "code",
          "checksum": "2bcf242ddb3ae4201985f08905889a4b",
          "grade": false,
          "grade_id": "comb_ans",
          "locked": false,
          "schema_version": 3,
          "solution": true,
          "task": false
        },
        "id": "3T0aFO2UlAc4"
      },
      "outputs": [],
      "source": [
        "def findDupChar(input):\n",
        "    \"\"\"Write a Python program to find all the duplicate characters which are similar to each other.\"\"\"\n",
        "    # YOUR CODE HERE\n",
        "    raise NotImplementedError()"
      ]
    },
    {
      "cell_type": "code",
      "execution_count": null,
      "metadata": {
        "id": "aRxrZIw_lAc4"
      },
      "outputs": [],
      "source": [
        "findDupChar('Essex University')"
      ]
    },
    {
      "cell_type": "code",
      "execution_count": null,
      "metadata": {
        "deletable": false,
        "editable": false,
        "nbgrader": {
          "cell_type": "code",
          "checksum": "9157a012f5936e75e1d3688ea825448e",
          "grade": true,
          "grade_id": "comb_test",
          "locked": true,
          "points": 1,
          "schema_version": 3,
          "solution": false,
          "task": false
        },
        "id": "IxMzaqtGlAc4"
      },
      "outputs": [],
      "source": [
        "assert findDupChar('Happyy') == 'p y'\n",
        "assert findDupChar('Essex University') == 's e i'"
      ]
    },
    {
      "cell_type": "code",
      "execution_count": null,
      "metadata": {
        "id": "ngmQUO50lAc5"
      },
      "outputs": [],
      "source": []
    }
  ],
  "metadata": {
    "kernelspec": {
      "display_name": "Python 3",
      "language": "python",
      "name": "python3"
    },
    "language_info": {
      "codemirror_mode": {
        "name": "ipython",
        "version": 3
      },
      "file_extension": ".py",
      "mimetype": "text/x-python",
      "name": "python",
      "nbconvert_exporter": "python",
      "pygments_lexer": "ipython3",
      "version": "3.7.10"
    },
    "colab": {
      "provenance": [],
      "include_colab_link": true
    }
  },
  "nbformat": 4,
  "nbformat_minor": 0
}